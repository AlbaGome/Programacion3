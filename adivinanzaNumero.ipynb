{
 "cells": [
  {
   "cell_type": "code",
   "execution_count": 55,
   "id": "d966e681",
   "metadata": {
    "scrolled": true
   },
   "outputs": [
    {
     "name": "stdout",
     "output_type": "stream",
     "text": [
      "=================================\n",
      "Bienvenido al Juego del Ahorcado\n",
      "=================================\n",
      "Ingrese una letra...a\n",
      "Se encontro la letra a en la posicion 1\n",
      "Se encontro la letra a en la posicion 4\n",
      "Se encontro la letra a en la posicion 8\n",
      "jugando...\n"
     ]
    },
    {
     "ename": "KeyboardInterrupt",
     "evalue": "Interrupted by user",
     "output_type": "error",
     "traceback": [
      "\u001b[1;31m---------------------------------------------------------------------------\u001b[0m",
      "\u001b[1;31mKeyboardInterrupt\u001b[0m                         Traceback (most recent call last)",
      "\u001b[1;32m~\\AppData\\Local\\Temp\\ipykernel_9484\\1673973959.py\u001b[0m in \u001b[0;36m<module>\u001b[1;34m\u001b[0m\n\u001b[0;32m     25\u001b[0m \u001b[1;33m\u001b[0m\u001b[0m\n\u001b[0;32m     26\u001b[0m \u001b[1;32mif\u001b[0m\u001b[1;33m(\u001b[0m\u001b[0m__name__\u001b[0m\u001b[1;33m==\u001b[0m\u001b[1;34m\"__main__\"\u001b[0m\u001b[1;33m)\u001b[0m\u001b[1;33m:\u001b[0m\u001b[1;33m\u001b[0m\u001b[1;33m\u001b[0m\u001b[0m\n\u001b[1;32m---> 27\u001b[1;33m     \u001b[0mjugar\u001b[0m\u001b[1;33m(\u001b[0m\u001b[1;33m)\u001b[0m\u001b[1;33m\u001b[0m\u001b[1;33m\u001b[0m\u001b[0m\n\u001b[0m",
      "\u001b[1;32m~\\AppData\\Local\\Temp\\ipykernel_9484\\1673973959.py\u001b[0m in \u001b[0;36mjugar\u001b[1;34m()\u001b[0m\n\u001b[0;32m     11\u001b[0m \u001b[1;33m\u001b[0m\u001b[0m\n\u001b[0;32m     12\u001b[0m     \u001b[1;32mwhile\u001b[0m \u001b[1;33m(\u001b[0m\u001b[1;32mnot\u001b[0m \u001b[0mahorcado\u001b[0m \u001b[1;32mand\u001b[0m \u001b[1;32mnot\u001b[0m \u001b[0macerto\u001b[0m\u001b[1;33m)\u001b[0m\u001b[1;33m:\u001b[0m\u001b[1;33m\u001b[0m\u001b[1;33m\u001b[0m\u001b[0m\n\u001b[1;32m---> 13\u001b[1;33m         \u001b[0mentrada\u001b[0m \u001b[1;33m=\u001b[0m \u001b[0minput\u001b[0m\u001b[1;33m(\u001b[0m\u001b[1;34m'Ingrese una letra...'\u001b[0m\u001b[1;33m)\u001b[0m\u001b[1;33m\u001b[0m\u001b[1;33m\u001b[0m\u001b[0m\n\u001b[0m\u001b[0;32m     14\u001b[0m         \u001b[0mentrada\u001b[0m \u001b[1;33m=\u001b[0m \u001b[0mentrada\u001b[0m\u001b[1;33m.\u001b[0m\u001b[0mstrip\u001b[0m\u001b[1;33m(\u001b[0m\u001b[1;33m)\u001b[0m             \u001b[1;31m#elimina espacios\u001b[0m\u001b[1;33m\u001b[0m\u001b[1;33m\u001b[0m\u001b[0m\n\u001b[0;32m     15\u001b[0m         \u001b[0mentrada\u001b[0m \u001b[1;33m=\u001b[0m \u001b[0mentrada\u001b[0m\u001b[1;33m.\u001b[0m\u001b[0mlower\u001b[0m\u001b[1;33m(\u001b[0m\u001b[1;33m)\u001b[0m             \u001b[1;31m#convierte  a mayusculas\u001b[0m\u001b[1;33m\u001b[0m\u001b[1;33m\u001b[0m\u001b[0m\n",
      "\u001b[1;32mC:\\ProgramData\\Anaconda3\\lib\\site-packages\\ipykernel\\kernelbase.py\u001b[0m in \u001b[0;36mraw_input\u001b[1;34m(self, prompt)\u001b[0m\n\u001b[0;32m   1175\u001b[0m                 \u001b[1;34m\"raw_input was called, but this frontend does not support input requests.\"\u001b[0m\u001b[1;33m\u001b[0m\u001b[1;33m\u001b[0m\u001b[0m\n\u001b[0;32m   1176\u001b[0m             )\n\u001b[1;32m-> 1177\u001b[1;33m         return self._input_request(\n\u001b[0m\u001b[0;32m   1178\u001b[0m             \u001b[0mstr\u001b[0m\u001b[1;33m(\u001b[0m\u001b[0mprompt\u001b[0m\u001b[1;33m)\u001b[0m\u001b[1;33m,\u001b[0m\u001b[1;33m\u001b[0m\u001b[1;33m\u001b[0m\u001b[0m\n\u001b[0;32m   1179\u001b[0m             \u001b[0mself\u001b[0m\u001b[1;33m.\u001b[0m\u001b[0m_parent_ident\u001b[0m\u001b[1;33m[\u001b[0m\u001b[1;34m\"shell\"\u001b[0m\u001b[1;33m]\u001b[0m\u001b[1;33m,\u001b[0m\u001b[1;33m\u001b[0m\u001b[1;33m\u001b[0m\u001b[0m\n",
      "\u001b[1;32mC:\\ProgramData\\Anaconda3\\lib\\site-packages\\ipykernel\\kernelbase.py\u001b[0m in \u001b[0;36m_input_request\u001b[1;34m(self, prompt, ident, parent, password)\u001b[0m\n\u001b[0;32m   1217\u001b[0m             \u001b[1;32mexcept\u001b[0m \u001b[0mKeyboardInterrupt\u001b[0m\u001b[1;33m:\u001b[0m\u001b[1;33m\u001b[0m\u001b[1;33m\u001b[0m\u001b[0m\n\u001b[0;32m   1218\u001b[0m                 \u001b[1;31m# re-raise KeyboardInterrupt, to truncate traceback\u001b[0m\u001b[1;33m\u001b[0m\u001b[1;33m\u001b[0m\u001b[0m\n\u001b[1;32m-> 1219\u001b[1;33m                 \u001b[1;32mraise\u001b[0m \u001b[0mKeyboardInterrupt\u001b[0m\u001b[1;33m(\u001b[0m\u001b[1;34m\"Interrupted by user\"\u001b[0m\u001b[1;33m)\u001b[0m \u001b[1;32mfrom\u001b[0m \u001b[1;32mNone\u001b[0m\u001b[1;33m\u001b[0m\u001b[1;33m\u001b[0m\u001b[0m\n\u001b[0m\u001b[0;32m   1220\u001b[0m             \u001b[1;32mexcept\u001b[0m \u001b[0mException\u001b[0m\u001b[1;33m:\u001b[0m\u001b[1;33m\u001b[0m\u001b[1;33m\u001b[0m\u001b[0m\n\u001b[0;32m   1221\u001b[0m                 \u001b[0mself\u001b[0m\u001b[1;33m.\u001b[0m\u001b[0mlog\u001b[0m\u001b[1;33m.\u001b[0m\u001b[0mwarning\u001b[0m\u001b[1;33m(\u001b[0m\u001b[1;34m\"Invalid Message:\"\u001b[0m\u001b[1;33m,\u001b[0m \u001b[0mexc_info\u001b[0m\u001b[1;33m=\u001b[0m\u001b[1;32mTrue\u001b[0m\u001b[1;33m)\u001b[0m\u001b[1;33m\u001b[0m\u001b[1;33m\u001b[0m\u001b[0m\n",
      "\u001b[1;31mKeyboardInterrupt\u001b[0m: Interrupted by user"
     ]
    }
   ],
   "source": [
    "def jugar():\n",
    "    print('=================================')\n",
    "    print('Bienvenido al Juego del Ahorcado')\n",
    "    print('=================================')\n",
    "    \n",
    "    palabra_secreta = 'mandarina'\n",
    "    letras_acertadas= {'_','_','_','_','_','_','_','_','_','_'}\n",
    "    \n",
    "    ahorcado = False\n",
    "    acerto = False\n",
    "    \n",
    "    while (not ahorcado and not acerto):\n",
    "        entrada = input('Ingrese una letra...')\n",
    "        entrada = entrada.strip()             #elimina espacios\n",
    "        entrada = entrada.lower()             #convierte  a mayusculas\n",
    "        indice = 0\n",
    "        for letra in palabra_secreta:\n",
    "            if(entrada==letra):\n",
    "                print('Se encontro la letra {} en la posicion {}'.format(letra,indice))\n",
    "        \n",
    "            indice = indice +1\n",
    "        print('jugando...')\n",
    "        \n",
    "    print(\"fin del juego\")   \n",
    "    \n",
    "if(__name__==\"__main__\"):\n",
    "    jugar()     "
   ]
  },
  {
   "cell_type": "code",
   "execution_count": 56,
   "id": "4501c16b",
   "metadata": {},
   "outputs": [
    {
     "data": {
      "text/plain": [
       "'Mandarina'"
      ]
     },
     "execution_count": 56,
     "metadata": {},
     "output_type": "execute_result"
    }
   ],
   "source": [
    "palabra = 'mandarina'\n",
    "palabra.capitalize()  # converte la primera letra en mayuscula\n"
   ]
  },
  {
   "cell_type": "code",
   "execution_count": 57,
   "id": "a0277dc2",
   "metadata": {},
   "outputs": [
    {
     "data": {
      "text/plain": [
       "True"
      ]
     },
     "execution_count": 57,
     "metadata": {},
     "output_type": "execute_result"
    }
   ],
   "source": [
    "palabra.endswith('na') #busca una sub cadena a final, si encuentra\n"
   ]
  },
  {
   "cell_type": "code",
   "execution_count": 58,
   "id": "496b7e34",
   "metadata": {},
   "outputs": [
    {
     "data": {
      "text/plain": [
       "'programacion tres'"
      ]
     },
     "execution_count": 58,
     "metadata": {},
     "output_type": "execute_result"
    }
   ],
   "source": [
    "palabra2 ='PROGRAMACION TRES'\n",
    "palabra2.lower() #convierte toda la cadena a minusculas"
   ]
  },
  {
   "cell_type": "code",
   "execution_count": 59,
   "id": "0540372a",
   "metadata": {},
   "outputs": [
    {
     "data": {
      "text/plain": [
       "'MANDARINA'"
      ]
     },
     "execution_count": 59,
     "metadata": {},
     "output_type": "execute_result"
    }
   ],
   "source": [
    "palabra.upper() # convierte toda la cadena a mayusculas\n"
   ]
  },
  {
   "cell_type": "code",
   "execution_count": 60,
   "id": "f4c63003",
   "metadata": {},
   "outputs": [
    {
     "data": {
      "text/plain": [
       "'abc'"
      ]
     },
     "execution_count": 60,
     "metadata": {},
     "output_type": "execute_result"
    }
   ],
   "source": [
    "palabra = '     abc     '\n",
    "palabra.strip()  #elimina los espacios en blanco a la izquierda como a la derecha   "
   ]
  },
  {
   "cell_type": "code",
   "execution_count": 61,
   "id": "524e82d7",
   "metadata": {},
   "outputs": [
    {
     "data": {
      "text/plain": [
       "str"
      ]
     },
     "execution_count": 61,
     "metadata": {},
     "output_type": "execute_result"
    }
   ],
   "source": [
    "palabra = 'mandarina'\n",
    "type(palabra)"
   ]
  },
  {
   "cell_type": "code",
   "execution_count": 62,
   "id": "9c47df32",
   "metadata": {},
   "outputs": [
    {
     "data": {
      "text/plain": [
       "0"
      ]
     },
     "execution_count": 62,
     "metadata": {},
     "output_type": "execute_result"
    }
   ],
   "source": [
    "palabra.find('m') #nos devuelve la posicion en la que se necuentra y si sale -1 es que no se encuentra"
   ]
  },
  {
   "cell_type": "code",
   "execution_count": 63,
   "id": "bfd5c5bb",
   "metadata": {},
   "outputs": [
    {
     "data": {
      "text/plain": [
       "list"
      ]
     },
     "execution_count": 63,
     "metadata": {},
     "output_type": "execute_result"
    }
   ],
   "source": [
    "valores = []\n",
    "type(valores)"
   ]
  },
  {
   "cell_type": "code",
   "execution_count": 64,
   "id": "54f2cfa8",
   "metadata": {},
   "outputs": [
    {
     "data": {
      "text/plain": [
       "False"
      ]
     },
     "execution_count": 64,
     "metadata": {},
     "output_type": "execute_result"
    }
   ],
   "source": [
    "valores = {0,1,2,3,\"x\"}\n",
    "7 in valores"
   ]
  },
  {
   "cell_type": "code",
   "execution_count": 65,
   "id": "5179831d",
   "metadata": {},
   "outputs": [
    {
     "data": {
      "text/plain": [
       "True"
      ]
     },
     "execution_count": 65,
     "metadata": {},
     "output_type": "execute_result"
    }
   ],
   "source": [
    "'a' in 'mandarina'"
   ]
  },
  {
   "cell_type": "code",
   "execution_count": 66,
   "id": "296fabd5",
   "metadata": {},
   "outputs": [
    {
     "data": {
      "text/plain": [
       "0"
      ]
     },
     "execution_count": 66,
     "metadata": {},
     "output_type": "execute_result"
    }
   ],
   "source": [
    "valores= {0,1,2,3,5,7}\n",
    "min(valores)"
   ]
  },
  {
   "cell_type": "code",
   "execution_count": 67,
   "id": "3385a195",
   "metadata": {},
   "outputs": [
    {
     "data": {
      "text/plain": [
       "7"
      ]
     },
     "execution_count": 67,
     "metadata": {},
     "output_type": "execute_result"
    }
   ],
   "source": [
    "\n",
    "max(valores)"
   ]
  },
  {
   "cell_type": "code",
   "execution_count": 68,
   "id": "f64b79db",
   "metadata": {},
   "outputs": [
    {
     "data": {
      "text/plain": [
       "6"
      ]
     },
     "execution_count": 68,
     "metadata": {},
     "output_type": "execute_result"
    }
   ],
   "source": [
    "len(valores)"
   ]
  },
  {
   "cell_type": "code",
   "execution_count": 69,
   "id": "7e0fab78",
   "metadata": {},
   "outputs": [
    {
     "ename": "AttributeError",
     "evalue": "'set' object has no attribute 'append'",
     "output_type": "error",
     "traceback": [
      "\u001b[1;31m---------------------------------------------------------------------------\u001b[0m",
      "\u001b[1;31mAttributeError\u001b[0m                            Traceback (most recent call last)",
      "\u001b[1;32m~\\AppData\\Local\\Temp\\ipykernel_9484\\3076961533.py\u001b[0m in \u001b[0;36m<module>\u001b[1;34m\u001b[0m\n\u001b[1;32m----> 1\u001b[1;33m \u001b[0mvalores\u001b[0m\u001b[1;33m.\u001b[0m\u001b[0mappend\u001b[0m\u001b[1;33m(\u001b[0m\u001b[1;36m9\u001b[0m\u001b[1;33m)\u001b[0m\u001b[1;33m\u001b[0m\u001b[1;33m\u001b[0m\u001b[0m\n\u001b[0m\u001b[0;32m      2\u001b[0m \u001b[0mvalores\u001b[0m\u001b[1;33m\u001b[0m\u001b[1;33m\u001b[0m\u001b[0m\n",
      "\u001b[1;31mAttributeError\u001b[0m: 'set' object has no attribute 'append'"
     ]
    }
   ],
   "source": [
    "valores.append(9)\n",
    "valores"
   ]
  },
  {
   "cell_type": "code",
   "execution_count": 70,
   "id": "4a08d55f",
   "metadata": {},
   "outputs": [
    {
     "data": {
      "text/plain": [
       "0"
      ]
     },
     "execution_count": 70,
     "metadata": {},
     "output_type": "execute_result"
    }
   ],
   "source": [
    "valores.pop()"
   ]
  },
  {
   "cell_type": "code",
   "execution_count": 71,
   "id": "2c5678e2",
   "metadata": {},
   "outputs": [
    {
     "data": {
      "text/plain": [
       "2"
      ]
     },
     "execution_count": 71,
     "metadata": {},
     "output_type": "execute_result"
    }
   ],
   "source": [
    "serie = range(0,10)\n",
    "serie[2]"
   ]
  },
  {
   "cell_type": "code",
   "execution_count": 72,
   "id": "3bbf95fb",
   "metadata": {},
   "outputs": [
    {
     "data": {
      "text/plain": [
       "7"
      ]
     },
     "execution_count": 72,
     "metadata": {},
     "output_type": "execute_result"
    }
   ],
   "source": [
    "serie[7]"
   ]
  },
  {
   "cell_type": "code",
   "execution_count": 73,
   "id": "c70c2c96",
   "metadata": {},
   "outputs": [
    {
     "data": {
      "text/plain": [
       "9"
      ]
     },
     "execution_count": 73,
     "metadata": {},
     "output_type": "execute_result"
    }
   ],
   "source": [
    "serie[9]"
   ]
  },
  {
   "cell_type": "code",
   "execution_count": 74,
   "id": "cb81ee0e",
   "metadata": {},
   "outputs": [],
   "source": [
    "dias_laborables=['lunes','martes','miercoles','jueves','viernes']"
   ]
  },
  {
   "cell_type": "code",
   "execution_count": 75,
   "id": "4b883e51",
   "metadata": {},
   "outputs": [],
   "source": [
    "dias_laborables.append('sabado')"
   ]
  },
  {
   "cell_type": "code",
   "execution_count": 76,
   "id": "d2069c7a",
   "metadata": {},
   "outputs": [
    {
     "data": {
      "text/plain": [
       "['lunes', 'martes', 'miercoles', 'jueves', 'viernes', 'sabado']"
      ]
     },
     "execution_count": 76,
     "metadata": {},
     "output_type": "execute_result"
    }
   ],
   "source": [
    "dias_laborables"
   ]
  },
  {
   "cell_type": "code",
   "execution_count": 77,
   "id": "8095faf9",
   "metadata": {},
   "outputs": [
    {
     "data": {
      "text/plain": [
       "['lunes', 'martes', 'miercoles', 'jueves', 'viernes']"
      ]
     },
     "execution_count": 77,
     "metadata": {},
     "output_type": "execute_result"
    }
   ],
   "source": [
    "dias_laborables.pop()\n",
    "dias_laborables"
   ]
  },
  {
   "cell_type": "code",
   "execution_count": 78,
   "id": "e2d14c24",
   "metadata": {},
   "outputs": [
    {
     "data": {
      "text/plain": [
       "tuple"
      ]
     },
     "execution_count": 78,
     "metadata": {},
     "output_type": "execute_result"
    }
   ],
   "source": [
    "dias = ('Lun','Mar','Mie','Jue','Vie','Sab','Dom')\n",
    "type(dias)"
   ]
  },
  {
   "cell_type": "code",
   "execution_count": 79,
   "id": "f48e43d3",
   "metadata": {},
   "outputs": [
    {
     "data": {
      "text/plain": [
       "'Mie'"
      ]
     },
     "execution_count": 79,
     "metadata": {},
     "output_type": "execute_result"
    }
   ],
   "source": [
    "dias[2]"
   ]
  },
  {
   "cell_type": "code",
   "execution_count": 80,
   "id": "f0ac629b",
   "metadata": {},
   "outputs": [
    {
     "data": {
      "text/plain": [
       "[(3, 5), (4, 6), (5, 7)]"
      ]
     },
     "execution_count": 80,
     "metadata": {},
     "output_type": "execute_result"
    }
   ],
   "source": [
    "punto = (3,5)\n",
    "p1 = (3,5)\n",
    "p2 = (4,6)\n",
    "p3 = (5,7)\n",
    "linea = [p1,p2,p3]\n",
    "linea"
   ]
  },
  {
   "cell_type": "code",
   "execution_count": 81,
   "id": "939b8cb7",
   "metadata": {},
   "outputs": [
    {
     "data": {
      "text/plain": [
       "[('Vami Moto', 40), ('Edivaldo', 37), ('Isidiro', 39)]"
      ]
     },
     "execution_count": 81,
     "metadata": {},
     "output_type": "execute_result"
    }
   ],
   "source": [
    "p1 = ('Vami Moto',40)\n",
    "p2 = ('Edivaldo',37)\n",
    "p3 = ('Isidiro',39)\n",
    "profesores = [p1,p2,p3]\n",
    "profesores\n"
   ]
  },
  {
   "cell_type": "code",
   "execution_count": 82,
   "id": "0f378bdb",
   "metadata": {},
   "outputs": [
    {
     "data": {
      "text/plain": [
       "('Edivaldo', 37)"
      ]
     },
     "execution_count": 82,
     "metadata": {},
     "output_type": "execute_result"
    }
   ],
   "source": [
    "profesores[1]  "
   ]
  },
  {
   "cell_type": "code",
   "execution_count": 83,
   "id": "61828022",
   "metadata": {},
   "outputs": [
    {
     "data": {
      "text/plain": [
       "37"
      ]
     },
     "execution_count": 83,
     "metadata": {},
     "output_type": "execute_result"
    }
   ],
   "source": [
    "profesores[1][1]"
   ]
  },
  {
   "cell_type": "code",
   "execution_count": 84,
   "id": "21dc7046",
   "metadata": {},
   "outputs": [
    {
     "data": {
      "text/plain": [
       "'Edivaldo'"
      ]
     },
     "execution_count": 84,
     "metadata": {},
     "output_type": "execute_result"
    }
   ],
   "source": [
    "profesores[1][0]"
   ]
  },
  {
   "cell_type": "code",
   "execution_count": 85,
   "id": "b347a944",
   "metadata": {},
   "outputs": [],
   "source": [
    "palabras =[]\n",
    "palabras.append('mandarina')\n",
    "palabras.append('mazana')\n",
    "palabras.append('durazno')"
   ]
  },
  {
   "cell_type": "code",
   "execution_count": 86,
   "id": "056d6dc0",
   "metadata": {},
   "outputs": [
    {
     "data": {
      "text/plain": [
       "('mandarina', 'mazana', 'durazno')"
      ]
     },
     "execution_count": 86,
     "metadata": {},
     "output_type": "execute_result"
    }
   ],
   "source": [
    "nueva = tuple(palabras)\n",
    "nueva"
   ]
  },
  {
   "cell_type": "code",
   "execution_count": 87,
   "id": "4e11897e",
   "metadata": {},
   "outputs": [
    {
     "data": {
      "text/plain": [
       "['mandarina', 'mazana', 'durazno']"
      ]
     },
     "execution_count": 87,
     "metadata": {},
     "output_type": "execute_result"
    }
   ],
   "source": [
    "otra = list(nueva)\n",
    "otra"
   ]
  },
  {
   "cell_type": "code",
   "execution_count": 88,
   "id": "603198c4",
   "metadata": {},
   "outputs": [
    {
     "name": "stdout",
     "output_type": "stream",
     "text": [
      "========================================\n",
      "Bienvenido al Juego de la horca\n",
      "========================================\n",
      "['_', '_', '_', '_', '_', '_', '_', '_', '_']\n",
      "Ingrese una letra... aa\n",
      "['_', '_', '_', '_', '_', '_', '_', '_', '_']\n"
     ]
    },
    {
     "ename": "KeyboardInterrupt",
     "evalue": "Interrupted by user",
     "output_type": "error",
     "traceback": [
      "\u001b[1;31m---------------------------------------------------------------------------\u001b[0m",
      "\u001b[1;31mKeyboardInterrupt\u001b[0m                         Traceback (most recent call last)",
      "\u001b[1;32m~\\AppData\\Local\\Temp\\ipykernel_9484\\2669125260.py\u001b[0m in \u001b[0;36m<module>\u001b[1;34m\u001b[0m\n\u001b[0;32m     41\u001b[0m \u001b[1;33m\u001b[0m\u001b[0m\n\u001b[0;32m     42\u001b[0m \u001b[1;32mif\u001b[0m\u001b[1;33m(\u001b[0m\u001b[0m__name__\u001b[0m \u001b[1;33m==\u001b[0m \u001b[1;34m\"__main__\"\u001b[0m\u001b[1;33m)\u001b[0m\u001b[1;33m:\u001b[0m\u001b[1;33m\u001b[0m\u001b[1;33m\u001b[0m\u001b[0m\n\u001b[1;32m---> 43\u001b[1;33m     \u001b[0mjugar\u001b[0m\u001b[1;33m(\u001b[0m\u001b[1;33m)\u001b[0m\u001b[1;33m\u001b[0m\u001b[1;33m\u001b[0m\u001b[0m\n\u001b[0m",
      "\u001b[1;32m~\\AppData\\Local\\Temp\\ipykernel_9484\\2669125260.py\u001b[0m in \u001b[0;36mjugar\u001b[1;34m()\u001b[0m\n\u001b[0;32m     13\u001b[0m     \u001b[0mprint\u001b[0m\u001b[1;33m(\u001b[0m\u001b[0mletras_acertadas\u001b[0m\u001b[1;33m)\u001b[0m\u001b[1;33m\u001b[0m\u001b[1;33m\u001b[0m\u001b[0m\n\u001b[0;32m     14\u001b[0m     \u001b[1;32mwhile\u001b[0m\u001b[1;33m(\u001b[0m\u001b[1;32mnot\u001b[0m \u001b[0mahorcado\u001b[0m \u001b[1;32mand\u001b[0m \u001b[1;32mnot\u001b[0m \u001b[0macerto\u001b[0m\u001b[1;33m)\u001b[0m\u001b[1;33m:\u001b[0m\u001b[1;33m\u001b[0m\u001b[1;33m\u001b[0m\u001b[0m\n\u001b[1;32m---> 15\u001b[1;33m         \u001b[0mentrada\u001b[0m\u001b[1;33m=\u001b[0m \u001b[0minput\u001b[0m\u001b[1;33m(\u001b[0m\u001b[1;34m'Ingrese una letra... '\u001b[0m\u001b[1;33m)\u001b[0m\u001b[1;33m\u001b[0m\u001b[1;33m\u001b[0m\u001b[0m\n\u001b[0m\u001b[0;32m     16\u001b[0m         \u001b[0mentrada\u001b[0m \u001b[1;33m=\u001b[0m \u001b[0mentrada\u001b[0m\u001b[1;33m.\u001b[0m\u001b[0mstrip\u001b[0m\u001b[1;33m(\u001b[0m\u001b[1;33m)\u001b[0m\u001b[1;33m\u001b[0m\u001b[1;33m\u001b[0m\u001b[0m\n\u001b[0;32m     17\u001b[0m         \u001b[0mentrada\u001b[0m \u001b[1;33m=\u001b[0m \u001b[0mentrada\u001b[0m\u001b[1;33m.\u001b[0m\u001b[0mlower\u001b[0m\u001b[1;33m(\u001b[0m\u001b[1;33m)\u001b[0m\u001b[1;33m\u001b[0m\u001b[1;33m\u001b[0m\u001b[0m\n",
      "\u001b[1;32mC:\\ProgramData\\Anaconda3\\lib\\site-packages\\ipykernel\\kernelbase.py\u001b[0m in \u001b[0;36mraw_input\u001b[1;34m(self, prompt)\u001b[0m\n\u001b[0;32m   1175\u001b[0m                 \u001b[1;34m\"raw_input was called, but this frontend does not support input requests.\"\u001b[0m\u001b[1;33m\u001b[0m\u001b[1;33m\u001b[0m\u001b[0m\n\u001b[0;32m   1176\u001b[0m             )\n\u001b[1;32m-> 1177\u001b[1;33m         return self._input_request(\n\u001b[0m\u001b[0;32m   1178\u001b[0m             \u001b[0mstr\u001b[0m\u001b[1;33m(\u001b[0m\u001b[0mprompt\u001b[0m\u001b[1;33m)\u001b[0m\u001b[1;33m,\u001b[0m\u001b[1;33m\u001b[0m\u001b[1;33m\u001b[0m\u001b[0m\n\u001b[0;32m   1179\u001b[0m             \u001b[0mself\u001b[0m\u001b[1;33m.\u001b[0m\u001b[0m_parent_ident\u001b[0m\u001b[1;33m[\u001b[0m\u001b[1;34m\"shell\"\u001b[0m\u001b[1;33m]\u001b[0m\u001b[1;33m,\u001b[0m\u001b[1;33m\u001b[0m\u001b[1;33m\u001b[0m\u001b[0m\n",
      "\u001b[1;32mC:\\ProgramData\\Anaconda3\\lib\\site-packages\\ipykernel\\kernelbase.py\u001b[0m in \u001b[0;36m_input_request\u001b[1;34m(self, prompt, ident, parent, password)\u001b[0m\n\u001b[0;32m   1217\u001b[0m             \u001b[1;32mexcept\u001b[0m \u001b[0mKeyboardInterrupt\u001b[0m\u001b[1;33m:\u001b[0m\u001b[1;33m\u001b[0m\u001b[1;33m\u001b[0m\u001b[0m\n\u001b[0;32m   1218\u001b[0m                 \u001b[1;31m# re-raise KeyboardInterrupt, to truncate traceback\u001b[0m\u001b[1;33m\u001b[0m\u001b[1;33m\u001b[0m\u001b[0m\n\u001b[1;32m-> 1219\u001b[1;33m                 \u001b[1;32mraise\u001b[0m \u001b[0mKeyboardInterrupt\u001b[0m\u001b[1;33m(\u001b[0m\u001b[1;34m\"Interrupted by user\"\u001b[0m\u001b[1;33m)\u001b[0m \u001b[1;32mfrom\u001b[0m \u001b[1;32mNone\u001b[0m\u001b[1;33m\u001b[0m\u001b[1;33m\u001b[0m\u001b[0m\n\u001b[0m\u001b[0;32m   1220\u001b[0m             \u001b[1;32mexcept\u001b[0m \u001b[0mException\u001b[0m\u001b[1;33m:\u001b[0m\u001b[1;33m\u001b[0m\u001b[1;33m\u001b[0m\u001b[0m\n\u001b[0;32m   1221\u001b[0m                 \u001b[0mself\u001b[0m\u001b[1;33m.\u001b[0m\u001b[0mlog\u001b[0m\u001b[1;33m.\u001b[0m\u001b[0mwarning\u001b[0m\u001b[1;33m(\u001b[0m\u001b[1;34m\"Invalid Message:\"\u001b[0m\u001b[1;33m,\u001b[0m \u001b[0mexc_info\u001b[0m\u001b[1;33m=\u001b[0m\u001b[1;32mTrue\u001b[0m\u001b[1;33m)\u001b[0m\u001b[1;33m\u001b[0m\u001b[1;33m\u001b[0m\u001b[0m\n",
      "\u001b[1;31mKeyboardInterrupt\u001b[0m: Interrupted by user"
     ]
    }
   ],
   "source": [
    "def jugar():\n",
    "    print('========================================')\n",
    "    print('Bienvenido al Juego de la horca')\n",
    "    print('========================================')\n",
    "\n",
    "    palabra_secreta = 'mandarina'\n",
    "    letras_acertadas =['_','_','_','_','_','_','_','_','_']\n",
    "    \n",
    "    ahorcado = False\n",
    "    acerto = False\n",
    "    errores = 0 #contador de errores\n",
    "    \n",
    "    print(letras_acertadas)\n",
    "    while(not ahorcado and not acerto):\n",
    "        entrada= input('Ingrese una letra... ')\n",
    "        entrada = entrada.strip()\n",
    "        entrada = entrada.lower()\n",
    "        \n",
    "        if entrada in palabra_secreta:\n",
    "            indice = 0\n",
    "            for letra in palabra_secreta:\n",
    "                if(entrada==letra):\n",
    "                    letras_acertadas[indice] = letra\n",
    "                    #print('Se encontró la letra {} en la posición {}'.format(letra, indice))\n",
    "\n",
    "                indice = indice + 1\n",
    "        else:\n",
    "            errores += 1\n",
    "            \n",
    "        ahorcado = errores == 9\n",
    "       # acerto = \"_\" not in letras_acertadas\n",
    "        print(letras_acertadas)\n",
    "        #print('jugando... ')\n",
    "       \n",
    "    if(acerto):\n",
    "        print('Felicidades, ganaste')\n",
    "    else:\n",
    "        print('Lo siento, perdiste')\n",
    "       \n",
    "    print('FIN DEL JUEGO')\n",
    "    \n",
    "if(__name__ == \"__main__\"):\n",
    "    jugar()"
   ]
  },
  {
   "cell_type": "code",
   "execution_count": 115,
   "id": "0a1b769a",
   "metadata": {},
   "outputs": [
    {
     "data": {
      "text/plain": [
       "['_', '_', '_', '_']"
      ]
     },
     "execution_count": 115,
     "metadata": {},
     "output_type": "execute_result"
    }
   ],
   "source": [
    "palabra = 'piña'\n",
    "lista = []\n",
    "for elemento in palabra:\n",
    "    lista.append('_')\n",
    "lista     "
   ]
  },
  {
   "cell_type": "code",
   "execution_count": 116,
   "id": "dba4d447",
   "metadata": {},
   "outputs": [
    {
     "data": {
      "text/plain": [
       "['_', '_', '_', '_', '_', '_', '_']"
      ]
     },
     "execution_count": 116,
     "metadata": {},
     "output_type": "execute_result"
    }
   ],
   "source": [
    "palabra = 'durazno'\n",
    "lista = []\n",
    "for elemento in palabra:\n",
    "    lista.append('_')\n",
    "lista  "
   ]
  },
  {
   "cell_type": "code",
   "execution_count": 117,
   "id": "6875ccaa",
   "metadata": {},
   "outputs": [
    {
     "data": {
      "text/plain": [
       "['_', '_', '_', '_', '_', '_']"
      ]
     },
     "execution_count": 117,
     "metadata": {},
     "output_type": "execute_result"
    }
   ],
   "source": [
    "#otra forma\n",
    "palabra = 'papaya'\n",
    "lista = ['_' for elemento in palabra]\n",
    "lista"
   ]
  },
  {
   "cell_type": "code",
   "execution_count": 118,
   "id": "01c9b9e7",
   "metadata": {},
   "outputs": [
    {
     "name": "stdout",
     "output_type": "stream",
     "text": [
      "========================================\n",
      "Bienvenido al Juego de la ahorca\n",
      "========================================\n",
      "['_', '_', '_', '_', '_', '_', '_', '_', '_']\n",
      "Ingrese una letra... dd\n",
      "['_', '_', '_', '_', '_', '_', '_', '_', '_']\n"
     ]
    },
    {
     "ename": "KeyboardInterrupt",
     "evalue": "Interrupted by user",
     "output_type": "error",
     "traceback": [
      "\u001b[1;31m---------------------------------------------------------------------------\u001b[0m",
      "\u001b[1;31mKeyboardInterrupt\u001b[0m                         Traceback (most recent call last)",
      "\u001b[1;32m~\\AppData\\Local\\Temp\\ipykernel_9484\\2630812418.py\u001b[0m in \u001b[0;36m<module>\u001b[1;34m\u001b[0m\n\u001b[0;32m     41\u001b[0m \u001b[1;33m\u001b[0m\u001b[0m\n\u001b[0;32m     42\u001b[0m \u001b[1;32mif\u001b[0m\u001b[1;33m(\u001b[0m\u001b[0m__name__\u001b[0m \u001b[1;33m==\u001b[0m \u001b[1;34m\"__main__\"\u001b[0m\u001b[1;33m)\u001b[0m\u001b[1;33m:\u001b[0m\u001b[1;33m\u001b[0m\u001b[1;33m\u001b[0m\u001b[0m\n\u001b[1;32m---> 43\u001b[1;33m     \u001b[0mjugar\u001b[0m\u001b[1;33m(\u001b[0m\u001b[1;33m)\u001b[0m\u001b[1;33m\u001b[0m\u001b[1;33m\u001b[0m\u001b[0m\n\u001b[0m",
      "\u001b[1;32m~\\AppData\\Local\\Temp\\ipykernel_9484\\2630812418.py\u001b[0m in \u001b[0;36mjugar\u001b[1;34m()\u001b[0m\n\u001b[0;32m     13\u001b[0m     \u001b[0mprint\u001b[0m\u001b[1;33m(\u001b[0m\u001b[0mletras_acertadas\u001b[0m\u001b[1;33m)\u001b[0m\u001b[1;33m\u001b[0m\u001b[1;33m\u001b[0m\u001b[0m\n\u001b[0;32m     14\u001b[0m     \u001b[1;32mwhile\u001b[0m\u001b[1;33m(\u001b[0m\u001b[1;32mnot\u001b[0m \u001b[0mahorcado\u001b[0m \u001b[1;32mand\u001b[0m \u001b[1;32mnot\u001b[0m \u001b[0macerto\u001b[0m\u001b[1;33m)\u001b[0m\u001b[1;33m:\u001b[0m\u001b[1;33m\u001b[0m\u001b[1;33m\u001b[0m\u001b[0m\n\u001b[1;32m---> 15\u001b[1;33m         \u001b[0mentrada\u001b[0m\u001b[1;33m=\u001b[0m \u001b[0minput\u001b[0m\u001b[1;33m(\u001b[0m\u001b[1;34m'Ingrese una letra... '\u001b[0m\u001b[1;33m)\u001b[0m\u001b[1;33m\u001b[0m\u001b[1;33m\u001b[0m\u001b[0m\n\u001b[0m\u001b[0;32m     16\u001b[0m         \u001b[0mentrada\u001b[0m \u001b[1;33m=\u001b[0m \u001b[0mentrada\u001b[0m\u001b[1;33m.\u001b[0m\u001b[0mstrip\u001b[0m\u001b[1;33m(\u001b[0m\u001b[1;33m)\u001b[0m\u001b[1;33m\u001b[0m\u001b[1;33m\u001b[0m\u001b[0m\n\u001b[0;32m     17\u001b[0m         \u001b[0mentrada\u001b[0m \u001b[1;33m=\u001b[0m \u001b[0mentrada\u001b[0m\u001b[1;33m.\u001b[0m\u001b[0mlower\u001b[0m\u001b[1;33m(\u001b[0m\u001b[1;33m)\u001b[0m\u001b[1;33m\u001b[0m\u001b[1;33m\u001b[0m\u001b[0m\n",
      "\u001b[1;32mC:\\ProgramData\\Anaconda3\\lib\\site-packages\\ipykernel\\kernelbase.py\u001b[0m in \u001b[0;36mraw_input\u001b[1;34m(self, prompt)\u001b[0m\n\u001b[0;32m   1175\u001b[0m                 \u001b[1;34m\"raw_input was called, but this frontend does not support input requests.\"\u001b[0m\u001b[1;33m\u001b[0m\u001b[1;33m\u001b[0m\u001b[0m\n\u001b[0;32m   1176\u001b[0m             )\n\u001b[1;32m-> 1177\u001b[1;33m         return self._input_request(\n\u001b[0m\u001b[0;32m   1178\u001b[0m             \u001b[0mstr\u001b[0m\u001b[1;33m(\u001b[0m\u001b[0mprompt\u001b[0m\u001b[1;33m)\u001b[0m\u001b[1;33m,\u001b[0m\u001b[1;33m\u001b[0m\u001b[1;33m\u001b[0m\u001b[0m\n\u001b[0;32m   1179\u001b[0m             \u001b[0mself\u001b[0m\u001b[1;33m.\u001b[0m\u001b[0m_parent_ident\u001b[0m\u001b[1;33m[\u001b[0m\u001b[1;34m\"shell\"\u001b[0m\u001b[1;33m]\u001b[0m\u001b[1;33m,\u001b[0m\u001b[1;33m\u001b[0m\u001b[1;33m\u001b[0m\u001b[0m\n",
      "\u001b[1;32mC:\\ProgramData\\Anaconda3\\lib\\site-packages\\ipykernel\\kernelbase.py\u001b[0m in \u001b[0;36m_input_request\u001b[1;34m(self, prompt, ident, parent, password)\u001b[0m\n\u001b[0;32m   1217\u001b[0m             \u001b[1;32mexcept\u001b[0m \u001b[0mKeyboardInterrupt\u001b[0m\u001b[1;33m:\u001b[0m\u001b[1;33m\u001b[0m\u001b[1;33m\u001b[0m\u001b[0m\n\u001b[0;32m   1218\u001b[0m                 \u001b[1;31m# re-raise KeyboardInterrupt, to truncate traceback\u001b[0m\u001b[1;33m\u001b[0m\u001b[1;33m\u001b[0m\u001b[0m\n\u001b[1;32m-> 1219\u001b[1;33m                 \u001b[1;32mraise\u001b[0m \u001b[0mKeyboardInterrupt\u001b[0m\u001b[1;33m(\u001b[0m\u001b[1;34m\"Interrupted by user\"\u001b[0m\u001b[1;33m)\u001b[0m \u001b[1;32mfrom\u001b[0m \u001b[1;32mNone\u001b[0m\u001b[1;33m\u001b[0m\u001b[1;33m\u001b[0m\u001b[0m\n\u001b[0m\u001b[0;32m   1220\u001b[0m             \u001b[1;32mexcept\u001b[0m \u001b[0mException\u001b[0m\u001b[1;33m:\u001b[0m\u001b[1;33m\u001b[0m\u001b[1;33m\u001b[0m\u001b[0m\n\u001b[0;32m   1221\u001b[0m                 \u001b[0mself\u001b[0m\u001b[1;33m.\u001b[0m\u001b[0mlog\u001b[0m\u001b[1;33m.\u001b[0m\u001b[0mwarning\u001b[0m\u001b[1;33m(\u001b[0m\u001b[1;34m\"Invalid Message:\"\u001b[0m\u001b[1;33m,\u001b[0m \u001b[0mexc_info\u001b[0m\u001b[1;33m=\u001b[0m\u001b[1;32mTrue\u001b[0m\u001b[1;33m)\u001b[0m\u001b[1;33m\u001b[0m\u001b[1;33m\u001b[0m\u001b[0m\n",
      "\u001b[1;31mKeyboardInterrupt\u001b[0m: Interrupted by user"
     ]
    }
   ],
   "source": [
    "def jugar():\n",
    "    print('========================================')\n",
    "    print('Bienvenido al Juego de la ahorca')\n",
    "    print('========================================')\n",
    "\n",
    "    palabra_secreta = 'mandarina'\n",
    "    letras_acertadas =['_' for elemento in palabra_secreta]\n",
    "    \n",
    "    ahorcado = False\n",
    "    acerto = False\n",
    "    errores = 0 #contador de errores\n",
    "    \n",
    "    print(letras_acertadas)\n",
    "    while(not ahorcado and not acerto):\n",
    "        entrada= input('Ingrese una letra... ')\n",
    "        entrada = entrada.strip()\n",
    "        entrada = entrada.lower()\n",
    "        \n",
    "        if entrada in palabra_secreta:\n",
    "            indice = 0\n",
    "            for letra in palabra_secreta:\n",
    "                if(entrada==letra):\n",
    "                    letras_acertadas[indice] = letra\n",
    "                    #print('Se encontró la letra {} en la posición {}'.format(letra, indice))\n",
    "\n",
    "                indice = indice + 1\n",
    "        else:\n",
    "            errores += 1\n",
    "            \n",
    "        ahorcado = errores == 9\n",
    "       # acerto = \"_\" not in letras_acertadas\n",
    "        print(letras_acertadas)\n",
    "        #print('jugando... ')\n",
    "       \n",
    "    if(acerto):\n",
    "        print('Felicidades, ganaste')\n",
    "    else:\n",
    "        print('Lo siento, perdiste')\n",
    "       \n",
    "    print('FIN DEL JUEGO')\n",
    "    \n",
    "if(__name__ == \"__main__\"):\n",
    "    jugar()"
   ]
  },
  {
   "cell_type": "code",
   "execution_count": 119,
   "id": "22c5ac91",
   "metadata": {},
   "outputs": [
    {
     "data": {
      "text/plain": [
       "<_io.TextIOWrapper name='palabras.txt' mode='w' encoding='cp1252'>"
      ]
     },
     "execution_count": 119,
     "metadata": {},
     "output_type": "execute_result"
    }
   ],
   "source": [
    "#archivos\n",
    "archivo = open('palabras.txt','w')\n",
    "archivo"
   ]
  },
  {
   "cell_type": "code",
   "execution_count": 120,
   "id": "26001ca2",
   "metadata": {},
   "outputs": [
    {
     "data": {
      "text/plain": [
       "7"
      ]
     },
     "execution_count": 120,
     "metadata": {},
     "output_type": "execute_result"
    }
   ],
   "source": [
    "archivo.write('platano')"
   ]
  },
  {
   "cell_type": "code",
   "execution_count": 121,
   "id": "159eeb69",
   "metadata": {},
   "outputs": [
    {
     "data": {
      "text/plain": [
       "7"
      ]
     },
     "execution_count": 121,
     "metadata": {},
     "output_type": "execute_result"
    }
   ],
   "source": [
    "archivo.write('durazno')"
   ]
  },
  {
   "cell_type": "code",
   "execution_count": 122,
   "id": "95f4fb62",
   "metadata": {},
   "outputs": [],
   "source": [
    "archivo.close()"
   ]
  },
  {
   "cell_type": "code",
   "execution_count": 123,
   "id": "33b0a327",
   "metadata": {},
   "outputs": [
    {
     "data": {
      "text/plain": [
       "9"
      ]
     },
     "execution_count": 123,
     "metadata": {},
     "output_type": "execute_result"
    }
   ],
   "source": [
    "archivo = open('palabras.txt','a')\n",
    "archivo.write('frutilla\\n')"
   ]
  },
  {
   "cell_type": "code",
   "execution_count": 124,
   "id": "d3995ec1",
   "metadata": {},
   "outputs": [
    {
     "data": {
      "text/plain": [
       "8"
      ]
     },
     "execution_count": 124,
     "metadata": {},
     "output_type": "execute_result"
    }
   ],
   "source": [
    "archivo.write('manzana\\n')"
   ]
  },
  {
   "cell_type": "code",
   "execution_count": 125,
   "id": "04f48383",
   "metadata": {},
   "outputs": [],
   "source": [
    "archivo.close()"
   ]
  },
  {
   "cell_type": "code",
   "execution_count": 126,
   "id": "68550701",
   "metadata": {},
   "outputs": [],
   "source": [
    "#leyendo un archivo\n",
    "archivo = open('palabras.txt','r') #abrimos un archivo solo para lectura"
   ]
  },
  {
   "cell_type": "code",
   "execution_count": 127,
   "id": "7c49883a",
   "metadata": {},
   "outputs": [
    {
     "ename": "UnsupportedOperation",
     "evalue": "not writable",
     "output_type": "error",
     "traceback": [
      "\u001b[1;31m---------------------------------------------------------------------------\u001b[0m",
      "\u001b[1;31mUnsupportedOperation\u001b[0m                      Traceback (most recent call last)",
      "\u001b[1;32m~\\AppData\\Local\\Temp\\ipykernel_9484\\1277419734.py\u001b[0m in \u001b[0;36m<module>\u001b[1;34m\u001b[0m\n\u001b[1;32m----> 1\u001b[1;33m \u001b[0marchivo\u001b[0m\u001b[1;33m.\u001b[0m\u001b[0mwrite\u001b[0m\u001b[1;33m(\u001b[0m\u001b[1;34m'chirimoya'\u001b[0m\u001b[1;33m)\u001b[0m\u001b[1;33m\u001b[0m\u001b[1;33m\u001b[0m\u001b[0m\n\u001b[0m",
      "\u001b[1;31mUnsupportedOperation\u001b[0m: not writable"
     ]
    }
   ],
   "source": [
    "archivo.write('chirimoya')"
   ]
  },
  {
   "cell_type": "code",
   "execution_count": 128,
   "id": "e96e530a",
   "metadata": {},
   "outputs": [
    {
     "data": {
      "text/plain": [
       "'platanoduraznofrutilla\\nmanzana\\n'"
      ]
     },
     "execution_count": 128,
     "metadata": {},
     "output_type": "execute_result"
    }
   ],
   "source": [
    "archivo.read()"
   ]
  },
  {
   "cell_type": "code",
   "execution_count": 129,
   "id": "6ab395e0",
   "metadata": {},
   "outputs": [
    {
     "name": "stdout",
     "output_type": "stream",
     "text": [
      "platanoduraznofrutilla\n",
      "\n",
      "manzana\n",
      "\n"
     ]
    }
   ],
   "source": [
    "#QUEERMOS LEER LINEA POR LINEA,NO TODO EL ARCHIVO\n",
    "archivo = open('palabras.txt','r')\n",
    "for linea in archivo:\n",
    "    print(linea)"
   ]
  },
  {
   "cell_type": "code",
   "execution_count": 130,
   "id": "d22e85f6",
   "metadata": {},
   "outputs": [
    {
     "data": {
      "text/plain": [
       "str"
      ]
     },
     "execution_count": 130,
     "metadata": {},
     "output_type": "execute_result"
    }
   ],
   "source": [
    "archivo.close()\n",
    "archivo = open('palabras.txt','r')\n",
    "linea = archivo.readline()\n",
    "type(linea)"
   ]
  },
  {
   "cell_type": "code",
   "execution_count": 131,
   "id": "34d994fd",
   "metadata": {},
   "outputs": [
    {
     "data": {
      "text/plain": [
       "'platanoduraznofrutilla\\n'"
      ]
     },
     "execution_count": 131,
     "metadata": {},
     "output_type": "execute_result"
    }
   ],
   "source": [
    "linea"
   ]
  },
  {
   "cell_type": "code",
   "execution_count": 132,
   "id": "740e52b2",
   "metadata": {},
   "outputs": [
    {
     "data": {
      "text/plain": [
       "'platanoduraznofrutilla'"
      ]
     },
     "execution_count": 132,
     "metadata": {},
     "output_type": "execute_result"
    }
   ],
   "source": [
    "linea.strip()"
   ]
  },
  {
   "cell_type": "code",
   "execution_count": 138,
   "id": "d85da872",
   "metadata": {},
   "outputs": [
    {
     "name": "stdout",
     "output_type": "stream",
     "text": [
      "Ingrese su nombrealba\n",
      "hola alba\n"
     ]
    }
   ],
   "source": [
    "#crear un programa que solicite a la persona que digite su nombre y que imprima \"hola ....(nombre)\"\n",
    "nombre = input('Ingrese su nombre')\n",
    "print(\"hola \"+ nombre)\n",
    "\n"
   ]
  },
  {
   "cell_type": "code",
   "execution_count": 149,
   "id": "5078f0d8",
   "metadata": {},
   "outputs": [
    {
     "name": "stdout",
     "output_type": "stream",
     "text": [
      "Ingrese su nombrealba\n",
      "Ingrese su edad19\n",
      "hola alba19\n"
     ]
    }
   ],
   "source": [
    "nombre = input('Ingrese su nombre')\n",
    "edad = input('Ingrese su edad')\n",
    "\n",
    "print(\"hola \"+ nombre + edad)\n"
   ]
  },
  {
   "cell_type": "code",
   "execution_count": 147,
   "id": "f779520a",
   "metadata": {},
   "outputs": [
    {
     "name": "stdout",
     "output_type": "stream",
     "text": [
      "ingrese el primer numero2\n",
      "ingrese el segundo numero4\n",
      "ingrese el tercero numero5\n",
      "el numero mayor es5\n"
     ]
    }
   ],
   "source": [
    "num1 = input('ingrese el primer numero')\n",
    "num2 = input('ingrese el segundo numero')\n",
    "num3 = input('ingrese el tercero numero')\n",
    "\n",
    "if(num1 >num2 and num1> num3):\n",
    "        print(\"el numero mayor es\"+num1)\n",
    "        \n",
    "else:\n",
    "    \n",
    "        if(num2>num1 and num2>num3):\n",
    "                print(\"el numero mayor es\"+num2)\n",
    "            \n",
    "        else:        \n",
    "            if(num3>num1 and num3>num2):\n",
    "                    print(\"el numero mayor es\"+num3)\n",
    "\n",
    "\n",
    "  "
   ]
  },
  {
   "cell_type": "code",
   "execution_count": 162,
   "id": "37d3ad2b",
   "metadata": {},
   "outputs": [
    {
     "ename": "IndentationError",
     "evalue": "unexpected indent (709997429.py, line 2)",
     "output_type": "error",
     "traceback": [
      "\u001b[1;36m  File \u001b[1;32m\"C:\\Users\\Control\\AppData\\Local\\Temp\\ipykernel_9484\\709997429.py\"\u001b[1;36m, line \u001b[1;32m2\u001b[0m\n\u001b[1;33m    for i in range(3):\u001b[0m\n\u001b[1;37m    ^\u001b[0m\n\u001b[1;31mIndentationError\u001b[0m\u001b[1;31m:\u001b[0m unexpected indent\n"
     ]
    }
   ],
   "source": [
    "numeros = []\n",
    " for i in range(3):\n",
    "        num=int(input(numeros))\n",
    "        numeros.append(num)\n",
    "print(max(numeros))\n"
   ]
  },
  {
   "cell_type": "code",
   "execution_count": 172,
   "id": "b47b8180",
   "metadata": {},
   "outputs": [
    {
     "name": "stdout",
     "output_type": "stream",
     "text": [
      "Ingrese numero: 2\n",
      "Ingrese numero: 3\n",
      "Ingrese numero: 4\n",
      "Ingrese numero: 5\n",
      "Ingrese numero: 6\n",
      "4.0\n"
     ]
    }
   ],
   "source": [
    "N=[]\n",
    "for i in range(5):\n",
    "    num = int(input(\"Ingrese numero: \"))\n",
    "    N.append(num)\n",
    "suma = sum(N)    \n",
    "promedio=suma/ len(N)\n",
    "print(promedio)"
   ]
  },
  {
   "cell_type": "code",
   "execution_count": 8,
   "id": "d5a54340",
   "metadata": {},
   "outputs": [
    {
     "name": "stdout",
     "output_type": "stream",
     "text": [
      "ingrese un numero3\n",
      "tres\n"
     ]
    }
   ],
   "source": [
    "numero = 0\n",
    "lista_unidades = [0,1,2,3,4,5,6,7,8,9]\n",
    "unidades = ['','uno','dos','tres','cuatro','cinco','seis','siete','ocho','nueve']\n",
    "literal = ''\n",
    "numero = int(input('ingrese un numero'))\n",
    "literal= unidades[numero]\n",
    "print(literal)"
   ]
  },
  {
   "cell_type": "code",
   "execution_count": 53,
   "id": "fdbb348f",
   "metadata": {},
   "outputs": [
    {
     "name": "stdout",
     "output_type": "stream",
     "text": [
      "ingrese un numero99\n",
      "noventanoventa\n"
     ]
    }
   ],
   "source": [
    "numero = 0\n",
    "lista_unidades = [0,1,2,3,4,5,6,7,8,9]\n",
    "decenas = ['','diez','veinte','treinta','cuarenta','cincuenta','secenta','setenta','ochenta','noventa']\n",
    "unidades = ['','uno','dos','tres','cuatro','cinco','seis','siete','ocho','nueve']\n",
    "dieces = ['','once','doce','trece','catroce','quince','dieciseis','diecisiete','dieciocho','diecinueve']\n",
    "literal = ''\n",
    "numero = input('ingrese un numero')\n",
    "posicion = 2\n",
    "for indice in numero:\n",
    "    if (posicion ==2):\n",
    "        literal = literal + decenas[int(indice)]\n",
    "        if (posicion == 1):\n",
    "            literal = literal + unidades[int(indice)]\n",
    "            posicion = posicion -1\n",
    "print(literal)"
   ]
  },
  {
   "cell_type": "code",
   "execution_count": 57,
   "id": "391acb85",
   "metadata": {},
   "outputs": [
    {
     "name": "stdout",
     "output_type": "stream",
     "text": [
      "ingrese un numero11\n",
      "diezoncediezonce\n"
     ]
    }
   ],
   "source": [
    "numero = 0\n",
    "lista_unidades = [0,1,2,3,4,5,6,7,8,9]\n",
    "decenas = ['','diez','veinte','treinta','cuarenta','cincuenta','secenta','setenta','ochenta','noventa']\n",
    "unidades = ['','uno','dos','tres','cuatro','cinco','seis','siete','ocho','nueve']\n",
    "dieces = ['','once','doce','trece','catroce','quince','diezsiseis','diezsisiete','diezocho','diecinueve']\n",
    "literal = ''\n",
    "numero = input('ingrese un numero')\n",
    "posicion = 2\n",
    "for indice in numero:\n",
    "    if (posicion ==2):\n",
    "        literal = literal + decenas[int(indice)]\n",
    "    if (posicion == 1):\n",
    "        literal = literal+ unidades[int(indice)]\n",
    "        posicion = posicion -1\n",
    "    if (posicion == 2 and indice =='1'): \n",
    "        literal = literal + '' + dieces[len(numero)-1]\n",
    "print(literal)"
   ]
  },
  {
   "cell_type": "code",
   "execution_count": 68,
   "id": "4508c64b",
   "metadata": {},
   "outputs": [
    {
     "name": "stdout",
     "output_type": "stream",
     "text": [
      "ingrese un numero11\n"
     ]
    },
    {
     "ename": "TypeError",
     "evalue": "object of type 'int' has no len()",
     "output_type": "error",
     "traceback": [
      "\u001b[1;31m---------------------------------------------------------------------------\u001b[0m",
      "\u001b[1;31mTypeError\u001b[0m                                 Traceback (most recent call last)",
      "\u001b[1;32m~\\AppData\\Local\\Temp\\ipykernel_15688\\1689954121.py\u001b[0m in \u001b[0;36m<module>\u001b[1;34m\u001b[0m\n\u001b[0;32m     11\u001b[0m         \u001b[0mliteral\u001b[0m \u001b[1;33m=\u001b[0m \u001b[0mliteral\u001b[0m \u001b[1;33m+\u001b[0m \u001b[1;34m' '\u001b[0m \u001b[1;33m+\u001b[0m \u001b[0munidades\u001b[0m\u001b[1;33m[\u001b[0m\u001b[0mint\u001b[0m\u001b[1;33m(\u001b[0m\u001b[0mindice\u001b[0m\u001b[1;33m)\u001b[0m\u001b[1;33m]\u001b[0m\u001b[1;33m\u001b[0m\u001b[1;33m\u001b[0m\u001b[0m\n\u001b[0;32m     12\u001b[0m     \u001b[1;32mif\u001b[0m \u001b[1;33m(\u001b[0m\u001b[0mposicion\u001b[0m \u001b[1;33m==\u001b[0m \u001b[1;36m2\u001b[0m \u001b[1;32mand\u001b[0m \u001b[0mindice\u001b[0m \u001b[1;33m==\u001b[0m \u001b[1;34m'1'\u001b[0m\u001b[1;33m)\u001b[0m\u001b[1;33m:\u001b[0m\u001b[1;33m\u001b[0m\u001b[1;33m\u001b[0m\u001b[0m\n\u001b[1;32m---> 13\u001b[1;33m         \u001b[0mliteral\u001b[0m \u001b[1;33m=\u001b[0m \u001b[0mliteral\u001b[0m \u001b[1;33m+\u001b[0m \u001b[1;34m' '\u001b[0m \u001b[1;33m+\u001b[0m \u001b[0mdieces\u001b[0m\u001b[1;33m[\u001b[0m\u001b[0mlen\u001b[0m\u001b[1;33m(\u001b[0m\u001b[0mnumero\u001b[0m\u001b[1;33m)\u001b[0m\u001b[1;33m-\u001b[0m\u001b[1;36m1\u001b[0m\u001b[1;33m]\u001b[0m\u001b[1;33m\u001b[0m\u001b[1;33m\u001b[0m\u001b[0m\n\u001b[0m\u001b[0;32m     14\u001b[0m     \u001b[0mposicion\u001b[0m \u001b[1;33m=\u001b[0m \u001b[0mposicion\u001b[0m \u001b[1;33m-\u001b[0m \u001b[1;36m1\u001b[0m\u001b[1;33m\u001b[0m\u001b[1;33m\u001b[0m\u001b[0m\n\u001b[0;32m     15\u001b[0m \u001b[0mprint\u001b[0m\u001b[1;33m(\u001b[0m\u001b[0mliteral\u001b[0m\u001b[1;33m)\u001b[0m\u001b[1;33m\u001b[0m\u001b[1;33m\u001b[0m\u001b[0m\n",
      "\u001b[1;31mTypeError\u001b[0m: object of type 'int' has no len()"
     ]
    }
   ],
   "source": [
    "numero = int(input('ingrese un numero'))\n",
    "decenas = ['','diez','veinte','treinta','cuarenta','cincuenta','secenta','setenta','ochenta','noventa']\n",
    "unidades = ['','uno','dos','tres','cuatro','cinco','seis','siete','ocho','nueve']\n",
    "dieces = ['','once','doce','trece','catorce','quince','diezsiseis','diezsisiete','diezocho','diecinueve']\n",
    "literal = ''\n",
    "posicion = 2\n",
    "for indice in str(numero):\n",
    "    if (posicion == 2):\n",
    "        literal = literal + decenas[int(indice)]\n",
    "    if (posicion == 1 and indice != '0'):\n",
    "        literal = literal + ' ' + unidades[int(indice)]\n",
    "    if (posicion == 2 and indice == '1'):\n",
    "        literal = literal + ' ' + dieces[int(str(numero)[-1])]\n",
    "    posicion = posicion - 1\n",
    "print(literal)"
   ]
  },
  {
   "cell_type": "code",
   "execution_count": null,
   "id": "37063072",
   "metadata": {},
   "outputs": [],
   "source": []
  }
 ],
 "metadata": {
  "kernelspec": {
   "display_name": "Python 3 (ipykernel)",
   "language": "python",
   "name": "python3"
  },
  "language_info": {
   "codemirror_mode": {
    "name": "ipython",
    "version": 3
   },
   "file_extension": ".py",
   "mimetype": "text/x-python",
   "name": "python",
   "nbconvert_exporter": "python",
   "pygments_lexer": "ipython3",
   "version": "3.9.13"
  }
 },
 "nbformat": 4,
 "nbformat_minor": 5
}
